{
 "nbformat": 4,
 "nbformat_minor": 2,
 "metadata": {
  "language_info": {
   "name": "python",
   "codemirror_mode": {
    "name": "ipython",
    "version": 3
   },
   "version": "3.5.2-final"
  },
  "orig_nbformat": 2,
  "file_extension": ".py",
  "mimetype": "text/x-python",
  "name": "python",
  "npconvert_exporter": "python",
  "pygments_lexer": "ipython3",
  "version": 3,
  "kernelspec": {
   "name": "python35264bit3a8774b7697c4df1ac9d9bf5ef4b2b49",
   "display_name": "Python 3.5.2 64-bit"
  }
 },
 "cells": [
  {
   "cell_type": "code",
   "execution_count": 54,
   "metadata": {},
   "outputs": [],
   "source": [
    "import json\n",
    "import os, sys\n",
    "\n",
    "import matplotlib\n",
    "matplotlib.use('agg')\n",
    "import matplotlib.pyplot as plt\n"
   ]
  },
  {
   "cell_type": "code",
   "execution_count": 55,
   "metadata": {},
   "outputs": [],
   "source": [
    "from sklearn.cluster import KMeans\n",
    "from sklearn.datasets import make_blobs\n",
    "from sklearn import metrics\n",
    "import numpy as np"
   ]
  },
  {
   "cell_type": "code",
   "execution_count": 131,
   "metadata": {},
   "outputs": [],
   "source": [
    "dic_ori = {}"
   ]
  },
  {
   "cell_type": "code",
   "execution_count": 132,
   "metadata": {},
   "outputs": [],
   "source": [
    "# read querier list\n",
    "    with open('2020-01-04.originator.unknown.json', 'r') as f:\n",
    "        js = f.read()\n",
    "        try:\n",
    "            dic_ori = json.loads(js)\n",
    "        except json.decoder.JSONDecodeError:\n",
    "            print('Error: JsonDecode Error')\n",
    "            sys.exit(0)"
   ]
  },
  {
   "cell_type": "code",
   "execution_count": 58,
   "metadata": {},
   "outputs": [],
   "source": [
    "    X, y = make_blobs(n_samples=1000, n_features=2, centers=[[-1,-1], [0,0], [1,1], [2,2]], cluster_std=[0.4, 0.2, 0.2, 0.2], \n",
    "                  random_state =9)\n",
    "    plt.scatter(X[:, 0], X[:, 1], marker='o')\n",
    "    plt.savefig('tmp.png')\n"
   ]
  },
  {
   "cell_type": "code",
   "execution_count": 134,
   "metadata": {},
   "outputs": [],
   "source": [
    "list_ori = list(dic_ori.values())\n",
    "ori_vec_list = [item['querier_type_vec'] for item in list_ori]\n",
    "ori_type = [item['originator_type'] for item in list_ori]\n",
    "ori_X = np.array(ori_vec_list)"
   ]
  },
  {
   "cell_type": "code",
   "execution_count": 138,
   "metadata": {},
   "outputs": [
    {
     "name": "stdout",
     "output_type": "stream",
     "text": "[0. 0. 0. 0. 0. 0. 0. 0. 0. 0.]\n{'as_country_code': 'BR', 'total_requests': 80, 'ipaddr': '2804:14d:4410:672:189:7:152:44', 'originator_type': 'OriginatorType.Unknown', 'as_num': 28573, 'querier_type_vec': [0, 0, 0, 0, 0, 0, 0, 0, 0, 0], 'active_period_persistence': 799.7, 'total_unique_queriers': 26}\n"
    },
    {
     "data": {
      "text/plain": "'OriginatorType.Unknown'"
     },
     "execution_count": 138,
     "metadata": {},
     "output_type": "execute_result"
    }
   ],
   "source": [
    "print(ori_X[0])\n",
    "print(list_ori[0])\n",
    "ori_type[0]"
   ]
  },
  {
   "cell_type": "code",
   "execution_count": 179,
   "metadata": {},
   "outputs": [],
   "source": [
    "cluster_num = 8\n",
    "y_pred = KMeans(n_clusters = cluster_num, random_state=9).fit_predict(ori_X)"
   ]
  },
  {
   "cell_type": "code",
   "execution_count": 190,
   "metadata": {},
   "outputs": [
    {
     "name": "stdout",
     "output_type": "stream",
     "text": "157\n0 0.267515923566879\n1 0.07643312101910828\n2 0.06369426751592357\n3 0.19745222929936307\n4 0.07006369426751592\n5 0.03184713375796178\n6 0.14012738853503184\n7 0.15286624203821655\n/scorpio/home/liyiwei/.local/lib/python3.5/site-packages/sklearn/utils/deprecation.py:87: FutureWarning: Function calinski_harabaz_score is deprecated; Function 'calinski_harabaz_score' has been renamed to 'calinski_harabasz_score' and will be removed in version 0.23.\n  warnings.warn(msg, category=FutureWarning)\n"
    },
    {
     "data": {
      "text/plain": "235.6943211642044"
     },
     "execution_count": 190,
     "metadata": {},
     "output_type": "execute_result"
    }
   ],
   "source": [
    "print(len(ori_type))\n",
    "dns_cnt = [0] * cluster_num\n",
    "unknown_cnt = [0] * cluster_num\n",
    "dns_total = 1\n",
    "unknown_total = 0\n",
    "for i in range(len(ori_type)):\n",
    "    if ori_type[i] == 'OriginatorType.DNS':\n",
    "        dns_cnt[y_pred[i]] = dns_cnt[y_pred[i]] + 1\n",
    "        dns_total = dns_total + 1\n",
    "    else:\n",
    "        unknown_cnt[y_pred[i]] = unknown_cnt[y_pred[i]] + 1\n",
    "        unknown_total = unknown_total + 1\n",
    "        if y_pred[i] == 8:\n",
    "            print(ori_X[i])\n",
    "\n",
    "for i in range(cluster_num):\n",
    "    print(i, unknown_cnt[i] / unknown_total)\n",
    "\n",
    "metrics.calinski_harabaz_score(ori_X, y_pred)  "
   ]
  },
  {
   "cell_type": "code",
   "execution_count": 92,
   "metadata": {},
   "outputs": [
    {
     "name": "stderr",
     "output_type": "stream",
     "text": "/scorpio/home/liyiwei/.local/lib/python3.5/site-packages/sklearn/utils/deprecation.py:87: FutureWarning: Function calinski_harabaz_score is deprecated; Function 'calinski_harabaz_score' has been renamed to 'calinski_harabasz_score' and will be removed in version 0.23.\n  warnings.warn(msg, category=FutureWarning)\n"
    },
    {
     "data": {
      "text/plain": "357.3664770833827"
     },
     "execution_count": 92,
     "metadata": {},
     "output_type": "execute_result"
    }
   ],
   "source": [
    "metrics.calinski_harabaz_score(ori_X, y_pred)  "
   ]
  }
 ]
}